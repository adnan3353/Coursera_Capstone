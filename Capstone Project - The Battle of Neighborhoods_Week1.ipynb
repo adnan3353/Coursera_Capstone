﻿{
 "cells": [
  {
   "cell_type": "markdown",
   "metadata": {},
   "source": [
    "# *Coursera Capstone Projects*"
   ]
  },
  {
   "cell_type": "markdown",
   "metadata": {},
   "source": [
    "## Capstone Project - The Battle of Neighborhoods"
   ]
  },
  {
   "cell_type": "markdown",
   "metadata": {},
   "source": [
    "## Week 1"
   ]
  },
  {
   "cell_type": "markdown",
   "metadata": {},
   "source": [
    "## *Introduction/Business Problem*"
   ]
  },
  {
   "cell_type": "markdown",
   "metadata": {},
   "source": [
    "The Approach I used to begin this Project is by searching through the web to takle major issues facing residence of Toronto, especially families which having working parents. As I research through this problem, The Canadian daycare market has a well-established surplus of demand, resulting in anxiety-inducing waitlists — joined as early as the day a couple learns they’re expecting — and monthly fees that can amount to more than a mortgage payment. “It’s worse than finding a house or looking for an apartment. "
   ]
  },
  {
   "cell_type": "markdown",
   "metadata": {},
   "source": [
    " ### 1. Daycare fees continue to rise across Canada\n",
    " \n",
    " In the study, child care is divided into three categories – infant, toddler, and preschooler. The researchers define these categories as birth to two  years for infants, 18 months to three years for toddlers, and two-and-a-half years to kindergarten age for preschoolers, which is age four or five, depending on the province.\n",
    "\n",
    "These categories often see wildly different prices for full-time care, as a result of the smaller number of facilities available for infants, as well as the higher ratio of caregivers to children required by law. This means that while preschool age child care tends to be a lower figure overall, it gives the best idea of what the average family pays, since half of children in child care centres in Canada fall into this category.\n",
    "\n"
   ]
  },
  {
   "cell_type": "markdown",
   "metadata": {},
   "source": [
    "### 2. The waitlist problem\n",
    "\n",
    "But costs can be only half the battle for families when it comes to child care. The demand for child care greatly surpasses availability in most cases.\n",
    "\n",
    "Researchers found that in almost three-quarters of the cities covered in the study, centres maintained lengthy waitlists of children waiting to enter care programs. Bigger cities see 80 to 90 per cent of centres maintaining a waitlist, while even smaller cities like St. John’s are in the 79 per cent range.\n",
    "\n",
    "Wait lists are one of the major hurdles keeping parents from accessing quality child care, with families having to start the process early if they want to get their child enrolled. “You have to apply basically while you’re pregnant !!!\n",
    "\n",
    "Source: https://www.ctvnews.ca/features/analysis-daycare-fees-continue-to-rise-across-canada-1.3940099\n"
   ]
  },
  {
   "cell_type": "markdown",
   "metadata": {},
   "source": [
    "## *Approach to Solve The Issue*"
   ]
  },
  {
   "cell_type": "markdown",
   "metadata": {},
   "source": [
    "1. Help Individual (Parents) to find best Daycare Center for their child that match thier criteria.\n",
    "\n",
    "2. Encourage Business owners to invest in such high demand business by leveraging them with the best location. \n",
    "\n",
    "3. Benefits of growth of this business can be highly apprecaited by individuals and business owners. some are listed below:\n",
    "\n",
    "   A. by relieving parents from lengthy wait list. \n",
    "   \n",
    "   B. cost reduction.\n",
    "   \n",
    "   C. Good investment for Business owners as the subject is in High demand."
   ]
  },
  {
   "cell_type": "markdown",
   "metadata": {},
   "source": [
    "## *Description of the data*"
   ]
  },
  {
   "cell_type": "markdown",
   "metadata": {},
   "source": [
    "#### 1. Data ollection"
   ]
  },
  {
   "cell_type": "markdown",
   "metadata": {},
   "source": [
    "   1. Licensed Day Care Centres (http://opendata.toronto.ca/ChildrenServices/ChildCare/child-care.csv)\n",
    "   2. The venues in each neighborhood. (FourSquare API)\n",
    "   3. Postal codes in Toronto (https://en.wikipedia.org/wiki/List_of_postal_codes_of_Canada:_M)\n",
    "   "
   ]
  },
  {
   "cell_type": "code",
   "execution_count": null,
   "metadata": {},
   "outputs": [],
   "source": []
  }
 ],
 "metadata": {
  "kernelspec": {
   "display_name": "Python 3",
   "language": "python",
   "name": "python3"
  },
  "language_info": {
   "codemirror_mode": {
    "name": "ipython",
    "version": 3
   },
   "file_extension": ".py",
   "mimetype": "text/x-python",
   "name": "python",
   "nbconvert_exporter": "python",
   "pygments_lexer": "ipython3",
   "version": "3.7.0"
  }
 },
 "nbformat": 4,
 "nbformat_minor": 2
}
